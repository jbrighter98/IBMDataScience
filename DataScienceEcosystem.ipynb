{
 "cells": [
  {
   "cell_type": "markdown",
   "id": "978f737f-f45b-462a-a033-44869b2c9075",
   "metadata": {},
   "source": [
    "# Data Science Tools and Ecosystem"
   ]
  },
  {
   "cell_type": "markdown",
   "id": "09d874a2-60ff-4930-8dde-1f7efe6be73f",
   "metadata": {},
   "source": [
    "In this notebook, Data Science Tools and Ecosystem are summarized"
   ]
  },
  {
   "cell_type": "markdown",
   "id": "6d446016-9950-4d53-85ef-a41397e22b02",
   "metadata": {},
   "source": [
    "#### Objectives\n",
    "- List popular languages for Data Science\n",
    "- List popular Python libraries used in Data Science\n",
    "- List popular Data Science Tools\n",
    "- Show some example Python code and expressions\n",
    "- Demonstrate use of a Jupyter Notebook"
   ]
  },
  {
   "cell_type": "markdown",
   "id": "11fb6958-f4e8-43b2-aa3d-83bc0095d3db",
   "metadata": {},
   "source": [
    "Some of the popular languages that Data Scientists use are:\n",
    "1. Python\n",
    "2. R\n",
    "3. Julia\n",
    "4. SQL\n",
    "5. JavaScript\n",
    "\n",
    "... and more"
   ]
  },
  {
   "cell_type": "markdown",
   "id": "4638c04f-b793-4ce5-839e-7919acc75b1a",
   "metadata": {},
   "source": [
    "Some of the commonly used libraries used by Data Scientists include:\n",
    "1. NumPy\n",
    "2. Matplotlib\n",
    "3. Pandas\n",
    "4. Scikit-learn"
   ]
  },
  {
   "cell_type": "markdown",
   "id": "91ce6b56-f590-4094-a1bc-2e07932143e2",
   "metadata": {},
   "source": [
    "#### Data Science Tools:\n",
    "\n",
    "| Data Science Tools |\n",
    "| -------- |\n",
    "| Jupyter Notebooks |\n",
    "| RStudio |\n",
    "| Apache Spark |"
   ]
  },
  {
   "cell_type": "markdown",
   "id": "4c2b60f9-aa91-44cc-9ec4-02fc169b3cea",
   "metadata": {},
   "source": [
    "### Below are a few examples of evaluating arithmetic expressions in Python"
   ]
  },
  {
   "cell_type": "code",
   "execution_count": 1,
   "id": "25e61558-e043-4436-8291-ecdece604be4",
   "metadata": {
    "tags": []
   },
   "outputs": [
    {
     "data": {
      "text/plain": [
       "17"
      ]
     },
     "execution_count": 1,
     "metadata": {},
     "output_type": "execute_result"
    }
   ],
   "source": [
    "# This a simple arithmetic expression to mutiply then add integers\n",
    "\n",
    "(3*4)+5"
   ]
  },
  {
   "cell_type": "code",
   "execution_count": 3,
   "id": "4326e044-8b6f-4438-8cd7-d8de04f1f0b2",
   "metadata": {
    "tags": []
   },
   "outputs": [
    {
     "name": "stdout",
     "output_type": "stream",
     "text": [
      "3.3333333333333335 hours\n"
     ]
    }
   ],
   "source": [
    "# This will convert 200 minutes to hours by diving by 60\n",
    "\n",
    "minutes = 200\n",
    "hours = minutes / 60\n",
    "print(str(hours) + \" hours\")"
   ]
  },
  {
   "cell_type": "markdown",
   "id": "33e79ec7-57c3-4971-9fb6-344d18794a9a",
   "metadata": {},
   "source": [
    "## Author\n",
    "\n",
    "Joseph Brighter"
   ]
  },
  {
   "cell_type": "code",
   "execution_count": null,
   "id": "5885a71a-c854-4e62-80dd-8be10726b686",
   "metadata": {},
   "outputs": [],
   "source": []
  }
 ],
 "metadata": {
  "kernelspec": {
   "display_name": "Python",
   "language": "python",
   "name": "conda-env-python-py"
  },
  "language_info": {
   "codemirror_mode": {
    "name": "ipython",
    "version": 3
   },
   "file_extension": ".py",
   "mimetype": "text/x-python",
   "name": "python",
   "nbconvert_exporter": "python",
   "pygments_lexer": "ipython3",
   "version": "3.7.12"
  }
 },
 "nbformat": 4,
 "nbformat_minor": 5
}
